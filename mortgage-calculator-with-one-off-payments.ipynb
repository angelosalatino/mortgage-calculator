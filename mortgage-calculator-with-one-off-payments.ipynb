{
 "cells": [
  {
   "cell_type": "markdown",
   "id": "a7ffb74b-f950-4e9c-82eb-cbc8a23867b4",
   "metadata": {},
   "source": [
    "# Mortgage Calculator with one-off repayments\n",
    "\n",
    "Based on [https://onladder.co.uk/blog/how-to-calculate-mortgage-repayments/](https://onladder.co.uk/blog/how-to-calculate-mortgage-repayments/)\n",
    "\n",
    "Especially in the UK, you can make overpayments totalling up to 10\\% of your original loan amount (not the current loan) during a 12 month period without incurring any applicable early repayment charges.\n",
    "\n",
    "For instance, let's assume you have received a bonus payment from your employer (e.g., £1,000), and you decide to make a one-off overpayment to increase you equity against your mortgage. This code helps you understanding how the interest (cost of borrowing) changes when we perform such one-off payments."
   ]
  },
  {
   "cell_type": "markdown",
   "id": "9a9d11a6-5b12-4891-8377-9e76d4d7fd1c",
   "metadata": {},
   "source": [
    "## Parameters\n",
    "\n",
    "All the numbers you need to get started"
   ]
  },
  {
   "cell_type": "code",
   "execution_count": 1,
   "id": "efae5889-fb95-414e-a4c0-ced031b3765a",
   "metadata": {},
   "outputs": [],
   "source": [
    "# Principal (starting balance) of the loan\n",
    "mortgage_amount = 200000\n",
    "\n",
    "# Annual interest rate (APRC)\n",
    "# Can be expressed as either in percentage (e.g., 3.99%) or decimal (e.g., 0.0399)\n",
    "interest_rate = 0.0399 \n",
    "\n",
    "# Duration of your mortgage in years\n",
    "mortgage_period = 30 \n",
    "\n",
    "# Number of payments in total: if you make one mortgage payment every month for 25 years, that’s 25*12 = 300\n",
    "# Duration of your mortgage in months\n",
    "total_instalments = mortgage_period*12\n",
    "\n",
    "# For displaying purposes\n",
    "currency = \"£\"# \"$\" \"€\""
   ]
  },
  {
   "cell_type": "markdown",
   "id": "ae6623ad-6e65-4987-a0f1-6ab5f46a1203",
   "metadata": {},
   "source": [
    "## One-off payments\n",
    "These are set of payments that occur less frequently, differenly from recurring payments."
   ]
  },
  {
   "cell_type": "code",
   "execution_count": 9,
   "id": "8c375142-cfab-432e-9a5a-0435f2a22841",
   "metadata": {},
   "outputs": [],
   "source": [
    "# structure [(month, amount), (month, amount)]\n",
    "repayments = [(2,5000), # giving £5,000 at the second month\n",
    "            (15,1000)] # giving £1,000 at the 15th month"
   ]
  },
  {
   "cell_type": "markdown",
   "id": "81977aa6-141a-4fb6-a355-f7ff7ee1efe0",
   "metadata": {},
   "source": [
    "## Imports"
   ]
  },
  {
   "cell_type": "code",
   "execution_count": 3,
   "id": "1189daee-a35f-475f-b62f-5aa79d96fc98",
   "metadata": {},
   "outputs": [],
   "source": [
    "import pandas as pd\n",
    "from miscellaneous import *\n",
    "from IPython.display import HTML, IFrame, display"
   ]
  },
  {
   "cell_type": "markdown",
   "id": "f7be1298-e96c-40f8-b481-75393dc02666",
   "metadata": {},
   "source": [
    "## Original Summary\n",
    "Without repayments"
   ]
  },
  {
   "cell_type": "code",
   "execution_count": 4,
   "id": "c1890cfe-9fae-4c03-a4df-6a054fba5bd8",
   "metadata": {},
   "outputs": [
    {
     "name": "stdout",
     "output_type": "stream",
     "text": [
      "Total amount borrowed £200,000.00, with and interest rate of 3.99, and a repayment over 30 (360 instalments)\n",
      "Montly payments set to £953.68\n",
      "Total payments £343,324.80\n",
      "For each £1 borrowed you are will pay back £1.72\n"
     ]
    }
   ],
   "source": [
    "monthly_payment = payments(mortgage_amount,interest_rate,mortgage_period)\n",
    "total_given = approx(monthly_payment*mortgage_period*12) \n",
    "print(f\"Total amount borrowed {currency}{clean(mortgage_amount)}, with and interest rate of {clean(denormalise_interest_rate(interest_rate))}, and a repayment over {mortgage_period} ({mortgage_period*12} instalments)\")\n",
    "print(f\"Montly payments set to {currency}{clean(monthly_payment)}\")\n",
    "print(f\"Total payments {currency}{clean(total_given)}\")\n",
    "print(f\"For each £1 borrowed you are will pay back {currency}{clean(total_given/mortgage_amount)}\")"
   ]
  },
  {
   "cell_type": "markdown",
   "id": "00759cb5-bc32-4166-9f6a-2c696a39be47",
   "metadata": {},
   "source": [
    "## Payment Schedule"
   ]
  },
  {
   "cell_type": "code",
   "execution_count": 5,
   "id": "59481004-9a03-4d77-9b69-22c335e3a08e",
   "metadata": {},
   "outputs": [],
   "source": [
    "repayments_adj = {rep[0]:rep[1] for rep in repayments}\n",
    "\n",
    "columns=['Principal to date','Payment','One-off','Paid to date','Interest charged', 'Interest charged to date', 'Principal repaid', 'Principal repaid to date', 'Remaining principal']\n",
    "table = pd.DataFrame(columns=columns, index=[x for x in range(1, total_instalments+1)])\n",
    "remaining_principal = mortgage_amount\n",
    "payment_to_date = 0\n",
    "interest_paid_to_date = 0\n",
    "principal_repaid_to_date = 0\n",
    "to_break = False\n",
    "for instalment in range(1, total_instalments+1):\n",
    "    one_off_repayment = False\n",
    "    this_month_payment = monthly_payment\n",
    "    if instalment in repayments_adj:\n",
    "        one_off_repayment = True\n",
    "        this_month_payment += repayments_adj[instalment]\n",
    "    \n",
    "    principal_to_date = remaining_principal  \n",
    "    curr_interest_paid = current_interest_paid(principal_to_date, interest_rate)\n",
    "    if principal_to_date <= this_month_payment:\n",
    "        this_month_payment = principal_to_date + curr_interest_paid\n",
    "        to_break = True\n",
    "    \n",
    "    payment_to_date += this_month_payment\n",
    "    \n",
    "    interest_paid_to_date += curr_interest_paid\n",
    "    principal_repaid = this_month_payment - curr_interest_paid\n",
    "    principal_repaid_to_date += principal_repaid\n",
    "    remaining_principal -= principal_repaid\n",
    "    table.loc[instalment] = pd.Series({columns[0]:clean(principal_to_date),\n",
    "                                         columns[1]:clean(this_month_payment),\n",
    "                                         columns[2]:\"Y\" if one_off_repayment else \"\",\n",
    "                                         columns[3]:clean(payment_to_date),\n",
    "                                         columns[4]:clean(curr_interest_paid),\n",
    "                                         columns[5]:clean(interest_paid_to_date),\n",
    "                                         columns[6]:clean(principal_repaid),\n",
    "                                         columns[7]:clean(principal_repaid_to_date),\n",
    "                                         columns[8]:clean(remaining_principal)})\n",
    "    if to_break:\n",
    "        table = table.drop(range(instalment+1, total_instalments+1))\n",
    "        break"
   ]
  },
  {
   "cell_type": "markdown",
   "id": "4604ef15-6b79-40c1-a821-37ad72dcba24",
   "metadata": {},
   "source": [
    "### Details\n",
    "- **Principal to date**:  This is the amount of the loan at a given time.\n",
    "\n",
    "- **Payment**: This refers to the total amount of money paid toward the loan in a given period (usually monthly). This payment typically includes both principal and interest.\n",
    "\n",
    "- **Paid to date**:  The total amount of money paid towards the loan since it originated. This includes both principal and interest portions of all payments made.\n",
    "\n",
    "- **One-off**: Whether for this month there was a one-off repayment.\n",
    "\n",
    "- **Interest charged**: The amount of interest that accrues on the loan for a specific period (e.g., a month). This is the cost of borrowing the money.\n",
    "\n",
    "- **Interest charged to date**: The total amount of interest that has accrued on the loan since it originated.\n",
    "\n",
    "- **Principal repaid**: The portion of a specific payment that goes towards reducing the original loan amount (the principal).\n",
    "\n",
    "- **Principal repaid to date**: The total amount of the original loan amount that has been paid back since the loan originated.\n",
    "\n",
    "- **Remaining principal**: The outstanding balance on the loan; this is the amount still owed. It's calculated as \"Principal to date\" minus \"Principal repaid to date\"."
   ]
  },
  {
   "cell_type": "code",
   "execution_count": 6,
   "id": "d46d5d51-8c0e-47c3-a662-5c31caa42bef",
   "metadata": {},
   "outputs": [
    {
     "data": {
      "text/html": [
       "<div>\n",
       "<style scoped>\n",
       "    .dataframe tbody tr th:only-of-type {\n",
       "        vertical-align: middle;\n",
       "    }\n",
       "\n",
       "    .dataframe tbody tr th {\n",
       "        vertical-align: top;\n",
       "    }\n",
       "\n",
       "    .dataframe thead th {\n",
       "        text-align: right;\n",
       "    }\n",
       "</style>\n",
       "<table border=\"1\" class=\"dataframe\">\n",
       "  <thead>\n",
       "    <tr style=\"text-align: right;\">\n",
       "      <th></th>\n",
       "      <th>Principal to date</th>\n",
       "      <th>Payment</th>\n",
       "      <th>One-off</th>\n",
       "      <th>Paid to date</th>\n",
       "      <th>Interest charged</th>\n",
       "      <th>Interest charged to date</th>\n",
       "      <th>Principal repaid</th>\n",
       "      <th>Principal repaid to date</th>\n",
       "      <th>Remaining principal</th>\n",
       "    </tr>\n",
       "  </thead>\n",
       "  <tbody>\n",
       "    <tr>\n",
       "      <th>1</th>\n",
       "      <td>200,000.00</td>\n",
       "      <td>953.68</td>\n",
       "      <td></td>\n",
       "      <td>953.68</td>\n",
       "      <td>665.00</td>\n",
       "      <td>665.00</td>\n",
       "      <td>288.68</td>\n",
       "      <td>288.68</td>\n",
       "      <td>199,711.32</td>\n",
       "    </tr>\n",
       "    <tr>\n",
       "      <th>2</th>\n",
       "      <td>199,711.32</td>\n",
       "      <td>5,953.68</td>\n",
       "      <td>Y</td>\n",
       "      <td>6,907.36</td>\n",
       "      <td>664.04</td>\n",
       "      <td>1,329.04</td>\n",
       "      <td>5,289.64</td>\n",
       "      <td>5,578.32</td>\n",
       "      <td>194,421.68</td>\n",
       "    </tr>\n",
       "    <tr>\n",
       "      <th>3</th>\n",
       "      <td>194,421.68</td>\n",
       "      <td>953.68</td>\n",
       "      <td></td>\n",
       "      <td>7,861.04</td>\n",
       "      <td>646.45</td>\n",
       "      <td>1,975.49</td>\n",
       "      <td>307.23</td>\n",
       "      <td>5,885.55</td>\n",
       "      <td>194,114.45</td>\n",
       "    </tr>\n",
       "    <tr>\n",
       "      <th>4</th>\n",
       "      <td>194,114.45</td>\n",
       "      <td>953.68</td>\n",
       "      <td></td>\n",
       "      <td>8,814.72</td>\n",
       "      <td>645.43</td>\n",
       "      <td>2,620.92</td>\n",
       "      <td>308.25</td>\n",
       "      <td>6,193.80</td>\n",
       "      <td>193,806.20</td>\n",
       "    </tr>\n",
       "    <tr>\n",
       "      <th>5</th>\n",
       "      <td>193,806.20</td>\n",
       "      <td>953.68</td>\n",
       "      <td></td>\n",
       "      <td>9,768.40</td>\n",
       "      <td>644.41</td>\n",
       "      <td>3,265.33</td>\n",
       "      <td>309.27</td>\n",
       "      <td>6,503.07</td>\n",
       "      <td>193,496.93</td>\n",
       "    </tr>\n",
       "    <tr>\n",
       "      <th>...</th>\n",
       "      <td>...</td>\n",
       "      <td>...</td>\n",
       "      <td>...</td>\n",
       "      <td>...</td>\n",
       "      <td>...</td>\n",
       "      <td>...</td>\n",
       "      <td>...</td>\n",
       "      <td>...</td>\n",
       "      <td>...</td>\n",
       "    </tr>\n",
       "    <tr>\n",
       "      <th>337</th>\n",
       "      <td>3,907.86</td>\n",
       "      <td>953.68</td>\n",
       "      <td></td>\n",
       "      <td>327,390.16</td>\n",
       "      <td>12.99</td>\n",
       "      <td>130,357.33</td>\n",
       "      <td>940.69</td>\n",
       "      <td>197,032.83</td>\n",
       "      <td>2,967.17</td>\n",
       "    </tr>\n",
       "    <tr>\n",
       "      <th>338</th>\n",
       "      <td>2,967.17</td>\n",
       "      <td>953.68</td>\n",
       "      <td></td>\n",
       "      <td>328,343.84</td>\n",
       "      <td>9.87</td>\n",
       "      <td>130,367.20</td>\n",
       "      <td>943.81</td>\n",
       "      <td>197,976.64</td>\n",
       "      <td>2,023.36</td>\n",
       "    </tr>\n",
       "    <tr>\n",
       "      <th>339</th>\n",
       "      <td>2,023.36</td>\n",
       "      <td>953.68</td>\n",
       "      <td></td>\n",
       "      <td>329,297.52</td>\n",
       "      <td>6.73</td>\n",
       "      <td>130,373.93</td>\n",
       "      <td>946.95</td>\n",
       "      <td>198,923.59</td>\n",
       "      <td>1,076.41</td>\n",
       "    </tr>\n",
       "    <tr>\n",
       "      <th>340</th>\n",
       "      <td>1,076.41</td>\n",
       "      <td>953.68</td>\n",
       "      <td></td>\n",
       "      <td>330,251.20</td>\n",
       "      <td>3.58</td>\n",
       "      <td>130,377.51</td>\n",
       "      <td>950.10</td>\n",
       "      <td>199,873.69</td>\n",
       "      <td>126.31</td>\n",
       "    </tr>\n",
       "    <tr>\n",
       "      <th>341</th>\n",
       "      <td>126.31</td>\n",
       "      <td>126.73</td>\n",
       "      <td></td>\n",
       "      <td>330,377.93</td>\n",
       "      <td>0.42</td>\n",
       "      <td>130,377.93</td>\n",
       "      <td>126.31</td>\n",
       "      <td>200,000.00</td>\n",
       "      <td>0.00</td>\n",
       "    </tr>\n",
       "  </tbody>\n",
       "</table>\n",
       "<p>341 rows × 9 columns</p>\n",
       "</div>"
      ],
      "text/plain": [
       "    Principal to date   Payment One-off Paid to date Interest charged  \\\n",
       "1          200,000.00    953.68               953.68           665.00   \n",
       "2          199,711.32  5,953.68       Y     6,907.36           664.04   \n",
       "3          194,421.68    953.68             7,861.04           646.45   \n",
       "4          194,114.45    953.68             8,814.72           645.43   \n",
       "5          193,806.20    953.68             9,768.40           644.41   \n",
       "..                ...       ...     ...          ...              ...   \n",
       "337          3,907.86    953.68           327,390.16            12.99   \n",
       "338          2,967.17    953.68           328,343.84             9.87   \n",
       "339          2,023.36    953.68           329,297.52             6.73   \n",
       "340          1,076.41    953.68           330,251.20             3.58   \n",
       "341            126.31    126.73           330,377.93             0.42   \n",
       "\n",
       "    Interest charged to date Principal repaid Principal repaid to date  \\\n",
       "1                     665.00           288.68                   288.68   \n",
       "2                   1,329.04         5,289.64                 5,578.32   \n",
       "3                   1,975.49           307.23                 5,885.55   \n",
       "4                   2,620.92           308.25                 6,193.80   \n",
       "5                   3,265.33           309.27                 6,503.07   \n",
       "..                       ...              ...                      ...   \n",
       "337               130,357.33           940.69               197,032.83   \n",
       "338               130,367.20           943.81               197,976.64   \n",
       "339               130,373.93           946.95               198,923.59   \n",
       "340               130,377.51           950.10               199,873.69   \n",
       "341               130,377.93           126.31               200,000.00   \n",
       "\n",
       "    Remaining principal  \n",
       "1            199,711.32  \n",
       "2            194,421.68  \n",
       "3            194,114.45  \n",
       "4            193,806.20  \n",
       "5            193,496.93  \n",
       "..                  ...  \n",
       "337            2,967.17  \n",
       "338            2,023.36  \n",
       "339            1,076.41  \n",
       "340              126.31  \n",
       "341                0.00  \n",
       "\n",
       "[341 rows x 9 columns]"
      ]
     },
     "execution_count": 6,
     "metadata": {},
     "output_type": "execute_result"
    }
   ],
   "source": [
    "table"
   ]
  },
  {
   "cell_type": "markdown",
   "id": "91ec782a-efad-4d22-999a-043ad61cb5a1",
   "metadata": {},
   "source": [
    "## New Summary"
   ]
  },
  {
   "cell_type": "code",
   "execution_count": 7,
   "id": "bb17d036-2c9f-4f14-a98f-204ef2b58634",
   "metadata": {},
   "outputs": [
    {
     "name": "stdout",
     "output_type": "stream",
     "text": [
      "Total amount borrowed £200,000.00, with an initial interest rate of 3.99.\n",
      "Thanks to early repayments you shortened your mortgage to 341 instalments\n",
      "Montly payments was initially set to £953.68\n",
      "Then you performed 2 one-off repayments, of a total of £6,000.00\n",
      "Your total repayment is £330,377.93 (instead of the original £343,324.80)\n",
      "For each £1 borrowed you are will pay back £1.65\n"
     ]
    }
   ],
   "source": [
    "print(f\"Total amount borrowed {currency}{clean(mortgage_amount)}, with an initial interest rate of {clean(denormalise_interest_rate(interest_rate))}.\")\n",
    "print(f\"Thanks to early repayments you shortened your mortgage to {instalment} instalments\")\n",
    "print(f\"Montly payments was initially set to {currency}{clean(monthly_payment)}\")\n",
    "print(f\"Then you performed {len(repayments)} one-off repayments, of a total of {currency}{clean(sum([rep[1] for rep in repayments]))}\")\n",
    "print(f\"Your total repayment is {currency}{clean(payment_to_date)} (instead of the original {currency}{clean(total_given)})\")\n",
    "print(f\"For each £1 borrowed you are will pay back {currency}{clean(payment_to_date/mortgage_amount)}\")"
   ]
  },
  {
   "cell_type": "markdown",
   "id": "fceeedee-2010-4cd9-916d-7efef6353e7a",
   "metadata": {},
   "source": [
    "## Export to Excel"
   ]
  },
  {
   "cell_type": "code",
   "execution_count": 8,
   "id": "b8a5b599-2038-4de7-bb1e-203d17ed99d5",
   "metadata": {},
   "outputs": [],
   "source": [
    "output_file = \"my_mortgage_analysis2.xlsx\"\n",
    "table.to_excel(output_file)"
   ]
  }
 ],
 "metadata": {
  "kernelspec": {
   "display_name": "Python 3 (ipykernel)",
   "language": "python",
   "name": "python3"
  },
  "language_info": {
   "codemirror_mode": {
    "name": "ipython",
    "version": 3
   },
   "file_extension": ".py",
   "mimetype": "text/x-python",
   "name": "python",
   "nbconvert_exporter": "python",
   "pygments_lexer": "ipython3",
   "version": "3.8.18"
  }
 },
 "nbformat": 4,
 "nbformat_minor": 5
}
